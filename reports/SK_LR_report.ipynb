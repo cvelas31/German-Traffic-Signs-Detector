{
 "cells": [
  {
   "cell_type": "markdown",
   "metadata": {},
   "source": [
    "# German Traffic Sign Detector\n",
    "## Using Logistic Regression with scikit-learn\n",
    "First import the modules from the directory"
   ]
  },
  {
   "cell_type": "code",
   "execution_count": 1,
   "metadata": {
    "collapsed": true
   },
   "outputs": [],
   "source": [
    "import os\n",
    "from data_processing import preprocessingdata,inverse_ohe,data_adequacy,infer_plot\n",
    "from SK_LR import SK_LR_infer,SK_LR_test,SK_LR_train"
   ]
  },
  {
   "cell_type": "code",
   "execution_count": 2,
   "metadata": {},
   "outputs": [
    {
     "data": {
      "text/plain": [
       "'D:\\\\UNIVERSIDAD\\\\EXTERNAS\\\\RETO_KIWI_DEEP_LEARNING\\\\German Traffic Signs Detector'"
      ]
     },
     "execution_count": 2,
     "metadata": {},
     "output_type": "execute_result"
    }
   ],
   "source": [
    "os.getcwd() #This is the current directory"
   ]
  },
  {
   "cell_type": "markdown",
   "metadata": {},
   "source": [
    "So, to implement this model using the click library you need to introduce the model 3 and the directory where the train images are, for example:\n",
    "\n",
    "python app.py train -m 1 -d \"D:\\UNIVERSIDAD\\EXTERNAS\\RETO_KIWI_DEEP_LEARNING\\German Traffic Signs Detector Try\\images\\train\"\n",
    "\n",
    "As we are going to make and example we first assign those variable\n"
   ]
  },
  {
   "cell_type": "code",
   "execution_count": 3,
   "metadata": {
    "collapsed": true
   },
   "outputs": [],
   "source": [
    "model='1'"
   ]
  },
  {
   "cell_type": "code",
   "execution_count": 4,
   "metadata": {
    "collapsed": true
   },
   "outputs": [],
   "source": [
    "#the directory when its and input from the cmd it is transformed by the os.chdir() so it can be made with this \"\\\\\" \n",
    "#instead of just \"\\\"\n",
    "directory='D:\\\\UNIVERSIDAD\\\\EXTERNAS\\\\RETO_KIWI_DEEP_LEARNING\\\\German Traffic Signs Detector\\\\images\\\\train'"
   ]
  },
  {
   "cell_type": "markdown",
   "metadata": {},
   "source": [
    "Now we are going to do the train so we define the function to show how it works\n",
    "\n",
    "to run this from the Command Window\n",
    "\n",
    "python app.py train -m 1 -d \"D:\\UNIVERSIDAD\\EXTERNAS\\RETO_KIWI_DEEP_LEARNING\\German Traffic Signs Detector Try\\images\\train\"\n"
   ]
  },
  {
   "cell_type": "code",
   "execution_count": 5,
   "metadata": {
    "collapsed": true
   },
   "outputs": [],
   "source": [
    "def train(model, directory):\n",
    "    \"\"\"\n",
    "    Train model # from images in directory ...   \n",
    "    \n",
    "    \\b\n",
    "    INPUT:\n",
    "    model: Number of model or name to train\n",
    "        (0 - 'SK_LR' refers to SK logistic regression)\n",
    "        (1 - 'TF_LR' refers to  TF Logistic regression)\n",
    "        (2 - 'TF_LENET' refers to  TF LENET)\n",
    "        \n",
    "    directory: Directory where the train images are placed in format .ppm\n",
    "    \"\"\"\n",
    "    os.chdir(directory)\n",
    "    X_train, Y_train=data_adequacy(directory,train=True)\n",
    "    os.chdir('..') \n",
    "    os.chdir('..')\n",
    "    if model=='1' or model=='SK_LR':\n",
    "        model_train_path=os.getcwd()+'\\\\models\\\\model1'\n",
    "        X_train,Y_train=preprocessingdata(X_train,Y_train,directory)\n",
    "        SK_LR_train(X_train,Y_train,model_train_path)\n",
    "        pass\n",
    "    elif model=='2' or model=='TF_LR':\n",
    "        model_train_path=os.getcwd()+'\\\\models\\\\model2'\n",
    "        TF_LR_train(X_train,Y_train,model_train_path,rate=0.0009, epochs=300, batch_size=64)\n",
    "        pass\n",
    "    elif model=='3' or model=='TF_LENET':\n",
    "        model_train_path=os.getcwd()+'\\\\models\\\\model3'\n",
    "        TF_LENET_train(X_train,Y_train,model_train_path,epochs=50,batch_size=64,rate=0.0009)\n",
    "        pass\n",
    "    else:\n",
    "        print('Ingrese un numero de modelo que exista')"
   ]
  },
  {
   "cell_type": "code",
   "execution_count": 6,
   "metadata": {},
   "outputs": [
    {
     "name": "stdout",
     "output_type": "stream",
     "text": [
      "Training accuracy ... 100.0%\n"
     ]
    }
   ],
   "source": [
    "train(model, directory)"
   ]
  },
  {
   "cell_type": "markdown",
   "metadata": {},
   "source": [
    "### Now we are going to do the test so we define the function to show how it works\n",
    "#### We have to change the directory since the images for testing are in another directory but we use the same model\n",
    "to run this from the Command Window\n",
    "\n",
    "python app.py test -m 1 -d \"D:\\UNIVERSIDAD\\EXTERNAS\\RETO_KIWI_DEEP_LEARNING\\German Traffic Signs Detector Try\\images\\test\""
   ]
  },
  {
   "cell_type": "code",
   "execution_count": 7,
   "metadata": {
    "collapsed": true
   },
   "outputs": [],
   "source": [
    "directory='D:\\\\UNIVERSIDAD\\\\EXTERNAS\\\\RETO_KIWI_DEEP_LEARNING\\\\German Traffic Signs Detector\\\\images\\\\test'"
   ]
  },
  {
   "cell_type": "code",
   "execution_count": 8,
   "metadata": {
    "collapsed": true
   },
   "outputs": [],
   "source": [
    "def test(model, directory):\n",
    "    \"\"\"\n",
    "    Test Model # from images in directory ...  \n",
    "    \n",
    "    \\b\n",
    "    INPUT:\n",
    "    model: Number of model or name\n",
    "      (0 or SK_LR refers to SK logistic regression)\n",
    "      (1 or TF_LR refers to  TF Logistic regression)\n",
    "      (2 or TF_LENET refers to  TF LENET)\n",
    "        \n",
    "    directory: Directory where the test images are placed in format .ppm\n",
    "    \"\"\"\n",
    "    os.chdir(directory)\n",
    "    X_test, Y_test=data_adequacy(directory,train=False)\n",
    "    os.chdir('..') \n",
    "    os.chdir('..')\n",
    "    if model=='1' or model=='SK_LR':\n",
    "        model_train_path=os.getcwd()+'\\\\models\\\\model1'\n",
    "        X_test, Y_test=preprocessingdata(X_test, Y_test, directory)\n",
    "        SK_LR_test(X_test,Y_test,model_train_path)\n",
    "        pass\n",
    "    elif model=='2' or model=='TF_LR':\n",
    "        model_train_path=os.getcwd()+'\\\\models\\\\model2'\n",
    "        TF_LR_test(X_test,Y_test,model_train_path,batch_size=64)\n",
    "        pass\n",
    "    elif model=='3' or model=='TF_LENET':\n",
    "        model_train_path=os.getcwd()+'\\\\models\\\\model3'\n",
    "        TF_LENET_test(X_test,Y_test,model_train_path,batch_size=64)\n",
    "        pass"
   ]
  },
  {
   "cell_type": "code",
   "execution_count": 9,
   "metadata": {},
   "outputs": [
    {
     "name": "stdout",
     "output_type": "stream",
     "text": [
      "Test accuracy ... 83.53909465020575%\n"
     ]
    }
   ],
   "source": [
    "test(model, directory)"
   ]
  },
  {
   "cell_type": "markdown",
   "metadata": {},
   "source": [
    "### Finally, we are going to to the infer, so I pick some images of the test folder randomly and put them in the \"user\" folder\n",
    "### So again, we need to change the directory and define the infering function\n",
    "to run this from the Command Window\n",
    "\n",
    "python app.py infering -m 1 -d \"D:\\UNIVERSIDAD\\EXTERNAS\\RETO_KIWI_DEEP_LEARNING\\German Traffic Signs Detector Try\\images\\user\""
   ]
  },
  {
   "cell_type": "code",
   "execution_count": 10,
   "metadata": {
    "collapsed": true
   },
   "outputs": [],
   "source": [
    "directory='D:\\\\UNIVERSIDAD\\\\EXTERNAS\\\\RETO_KIWI_DEEP_LEARNING\\\\German Traffic Signs Detector\\\\images\\\\user'"
   ]
  },
  {
   "cell_type": "code",
   "execution_count": 11,
   "metadata": {
    "collapsed": true
   },
   "outputs": [],
   "source": [
    "def infer(model, directory):\n",
    "    \"\"\"\n",
    "    Infer from model # from images in directory  \n",
    "    \n",
    "    \\b\n",
    "    INPUT:\n",
    "    model: Number of model or name\n",
    "      (0 or SK_LR refers to SK logistic regression)\n",
    "      (1 or TF_LR refers to  TF Logistic regression)\n",
    "      (2 or TF_LENET refers to  TF LENET)\n",
    "        \n",
    "    directory: Directory where the infer or user images are placed in format .ppm\n",
    "    \"\"\"\n",
    "    os.chdir(directory)\n",
    "    X_infer, Y_infer=data_adequacy(directory,train=False)\n",
    "    os.chdir('..') \n",
    "    os.chdir('..')\n",
    "    if model=='1' or model=='SK_LR':\n",
    "        model_train_path=os.getcwd()+'\\\\models\\\\model1'\n",
    "        X_infer_pre, Y_infer_pre=preprocessingdata(X_infer, Y_infer, directory)\n",
    "        predict=SK_LR_infer(X_infer_pre,model_train_path)\n",
    "        infer_plot(X_infer,predict,Y_infer_pre)\n",
    "        pass\n",
    "    elif model=='2' or model=='TF_LR':\n",
    "        model_train_path=os.getcwd()+'\\\\models\\\\model2'\n",
    "        predict=TF_LR_infer(X_infer,model_train_path)\n",
    "        Y_infer_pre=inverse_ohe(directory,Y_infer)\n",
    "        infer_plot(X_infer,predict,Y_infer_pre)\n",
    "        pass\n",
    "    elif model=='3' or model=='TF_LENET':\n",
    "        model_train_path=os.getcwd()+'\\\\models\\\\model3'\n",
    "        predict=TF_LENET_infer(X_infer,model_train_path)\n",
    "        Y_infer_pre=inverse_ohe(directory,Y_infer)\n",
    "        infer_plot(X_infer,predict,Y_infer_pre)\n",
    "        pass"
   ]
  },
  {
   "cell_type": "code",
   "execution_count": 12,
   "metadata": {},
   "outputs": [
    {
     "data": {
      "image/png": "[encoded data removed]",
      "text/plain": [
       "<matplotlib.figure.Figure at 0x163f2faf4a8>"
      ]
     },
     "metadata": {},
     "output_type": "display_data"
    },
    {
     "data": {
      "image/png": "[encoded data removed]",
      "text/plain": [
       "<matplotlib.figure.Figure at 0x163f303d400>"
      ]
     },
     "metadata": {},
     "output_type": "display_data"
    },
    {
     "data": {
      "image/png": "[encoded data removed]",
      "text/plain": [
       "<matplotlib.figure.Figure at 0x163f30b3a20>"
      ]
     },
     "metadata": {},
     "output_type": "display_data"
    },
    {
     "data": {
      "image/png": "[encoded data removed]",
      "text/plain": [
       "<matplotlib.figure.Figure at 0x163f30560f0>"
      ]
     },
     "metadata": {},
     "output_type": "display_data"
    },
    {
     "data": {
      "image/png": "[encoded data removed]",
      "text/plain": [
       "<matplotlib.figure.Figure at 0x163f32142b0>"
      ]
     },
     "metadata": {},
     "output_type": "display_data"
    },
    {
     "data": {
      "image/png": "[encoded data removed]",
      "text/plain": [
       "<matplotlib.figure.Figure at 0x163f3276080>"
      ]
     },
     "metadata": {},
     "output_type": "display_data"
    }
   ],
   "source": [
    "infer(model, directory)"
   ]
  },
  {
   "cell_type": "code",
   "execution_count": null,
   "metadata": {
    "collapsed": true
   },
   "outputs": [],
   "source": []
  }
 ],
 "metadata": {
  "kernelspec": {
   "display_name": "Python 3",
   "language": "python",
   "name": "python3"
  },
  "language_info": {
   "codemirror_mode": {
    "name": "ipython",
    "version": 3
   },
   "file_extension": ".py",
   "mimetype": "text/x-python",
   "name": "python",
   "nbconvert_exporter": "python",
   "pygments_lexer": "ipython3",
   "version": "3.6.1"
  }
 },
 "nbformat": 4,
 "nbformat_minor": 2
}
