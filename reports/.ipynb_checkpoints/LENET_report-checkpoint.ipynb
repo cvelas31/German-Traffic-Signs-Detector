{
 "cells": [
  {
   "cell_type": "markdown",
   "metadata": {},
   "source": [
    "# German Traffic Sign Detector\n",
    "## Using LeNet in Tensor Flow"
   ]
  },
  {
   "cell_type": "markdown",
   "metadata": {},
   "source": [
    "First import the modules from the directory"
   ]
  },
  {
   "cell_type": "code",
   "execution_count": 1,
   "metadata": {},
   "outputs": [
    {
     "name": "stderr",
     "output_type": "stream",
     "text": [
      "C:\\ProgramData\\Anaconda3\\lib\\site-packages\\h5py\\__init__.py:34: FutureWarning: Conversion of the second argument of issubdtype from `float` to `np.floating` is deprecated. In future, it will be treated as `np.float64 == np.dtype(float).type`.\n",
      "  from ._conv import register_converters as _register_converters\n"
     ]
    }
   ],
   "source": [
    "import os\n",
    "from LENET import TF_LENET_infer,TF_LENET_test,TF_LENET_train\n",
    "from data_processing import preprocessingdata,inverse_ohe,data_adequacy,infer_plot"
   ]
  },
  {
   "cell_type": "code",
   "execution_count": 2,
   "metadata": {},
   "outputs": [
    {
     "data": {
      "text/plain": [
       "'D:\\\\UNIVERSIDAD\\\\EXTERNAS\\\\RETO_KIWI_DEEP_LEARNING\\\\German Traffic Signs Detector'"
      ]
     },
     "execution_count": 2,
     "metadata": {},
     "output_type": "execute_result"
    }
   ],
   "source": [
    "os.getcwd() #This is the current directory"
   ]
  },
  {
   "cell_type": "markdown",
   "metadata": {},
   "source": [
    "So, to implement this model using the click library you need to introduce the model 3 and the directory where the train images are, for example:\n",
    "\n",
    "python app.py train -m 3 -d \"D:\\UNIVERSIDAD\\EXTERNAS\\RETO_KIWI_DEEP_LEARNING\\German Traffic Signs Detector Try\\images\\train\""
   ]
  },
  {
   "cell_type": "markdown",
   "metadata": {},
   "source": [
    "As we are going to make and example we first assign those variable"
   ]
  },
  {
   "cell_type": "code",
   "execution_count": 3,
   "metadata": {
    "collapsed": true
   },
   "outputs": [],
   "source": [
    "model='3'"
   ]
  },
  {
   "cell_type": "code",
   "execution_count": 19,
   "metadata": {
    "collapsed": true
   },
   "outputs": [],
   "source": [
    "#the directory when its and input from the cmd it is transformed by the os.chdir() so it can be made with this \"\\\\\" \n",
    "#instead of just \"\\\"\n",
    "directory='D:\\\\UNIVERSIDAD\\\\EXTERNAS\\\\RETO_KIWI_DEEP_LEARNING\\\\German Traffic Signs Detector\\\\images\\\\train'"
   ]
  },
  {
   "cell_type": "markdown",
   "metadata": {},
   "source": [
    "### Now we are going to do the train so we define the function to show how it works\n",
    "to run this from the command window\n",
    "\n",
    "python app.py train -m 3 -d \"D:\\UNIVERSIDAD\\EXTERNAS\\RETO_KIWI_DEEP_LEARNING\\German Traffic Signs Detector Try\\images\\train\""
   ]
  },
  {
   "cell_type": "code",
   "execution_count": 20,
   "metadata": {
    "collapsed": true
   },
   "outputs": [],
   "source": [
    "def train(model, directory):\n",
    "    \"\"\"\n",
    "    Train model # from images in directory ...   \n",
    "    \n",
    "    \\b\n",
    "    INPUT:\n",
    "    model: Number of model or name to train\n",
    "        (0 - 'SK_LR' refers to SK logistic regression)\n",
    "        (1 - 'TF_LR' refers to  TF Logistic regression)\n",
    "        (2 - 'TF_LENET' refers to  TF LENET)\n",
    "        \n",
    "    directory: Directory where the train images are placed in format .ppm\n",
    "    \"\"\"\n",
    "    os.chdir(directory)\n",
    "    X_train, Y_train=data_adequacy(directory,train=True)\n",
    "    os.chdir('..') \n",
    "    os.chdir('..')\n",
    "    if model=='1' or model=='SK_LR':\n",
    "        model_train_path=os.getcwd()+'\\\\models\\\\model1'\n",
    "        X_train,Y_train=preprocessingdata(X_train,Y_train,directory)\n",
    "        SK_LR_train(X_train,Y_train,model_train_path)\n",
    "        pass\n",
    "    elif model=='2' or model=='TF_LR':\n",
    "        model_train_path=os.getcwd()+'\\\\models\\\\model2'\n",
    "        TF_LR_train(X_train,Y_train,model_train_path,rate=0.0009, epochs=300, batch_size=64)\n",
    "        pass\n",
    "    elif model=='3' or model=='TF_LENET':\n",
    "        model_train_path=os.getcwd()+'\\\\models\\\\model3'\n",
    "        TF_LENET_train(X_train,Y_train,model_train_path,epochs=50,batch_size=64,rate=0.0009)\n",
    "        pass\n",
    "    else:\n",
    "        print('Ingrese un numero de modelo que exista')"
   ]
  },
  {
   "cell_type": "code",
   "execution_count": 21,
   "metadata": {},
   "outputs": [
    {
     "name": "stdout",
     "output_type": "stream",
     "text": [
      "EPOCH 50 ... Validation Accuracy = 1.000\n"
     ]
    }
   ],
   "source": [
    "#Here we are going to train the LeNet Model\n",
    "#We get the accuracy of the last model\n",
    "train(model, directory)"
   ]
  },
  {
   "cell_type": "markdown",
   "metadata": {},
   "source": [
    "### Now we are going to do the test so we define the function to show how it works\n",
    "#### We have to change the directory since the images for testing are in another directory but we use the same model\n",
    "to run this from the Command Window\n",
    "\n",
    "python app.py test -m 3 -d \"D:\\UNIVERSIDAD\\EXTERNAS\\RETO_KIWI_DEEP_LEARNING\\German Traffic Signs Detector Try\\images\\test\""
   ]
  },
  {
   "cell_type": "code",
   "execution_count": 22,
   "metadata": {
    "collapsed": true
   },
   "outputs": [],
   "source": [
    "directory='D:\\\\UNIVERSIDAD\\\\EXTERNAS\\\\RETO_KIWI_DEEP_LEARNING\\\\German Traffic Signs Detector\\\\images\\\\test'"
   ]
  },
  {
   "cell_type": "code",
   "execution_count": 23,
   "metadata": {
    "collapsed": true
   },
   "outputs": [],
   "source": [
    "def test(model, directory):\n",
    "    \"\"\"\n",
    "    Test Model # from images in directory ...  \n",
    "    \n",
    "    \\b\n",
    "    INPUT:\n",
    "    model: Number of model or name\n",
    "      (0 or SK_LR refers to SK logistic regression)\n",
    "      (1 or TF_LR refers to  TF Logistic regression)\n",
    "      (2 or TF_LENET refers to  TF LENET)\n",
    "        \n",
    "    directory: Directory where the test images are placed in format .ppm\n",
    "    \"\"\"\n",
    "    os.chdir(directory)\n",
    "    X_test, Y_test=data_adequacy(directory,train=False)\n",
    "    os.chdir('..') \n",
    "    os.chdir('..')\n",
    "    if model=='1' or model=='SK_LR':\n",
    "        model_train_path=os.getcwd()+'\\\\models\\\\model1'\n",
    "        X_test, Y_test=preprocessingdata(X_test, Y_test, directory)\n",
    "        SK_LR_test(X_test,Y_test,model_train_path)\n",
    "        pass\n",
    "    elif model=='2' or model=='TF_LR':\n",
    "        model_train_path=os.getcwd()+'\\\\models\\\\model2'\n",
    "        TF_LR_test(X_test,Y_test,model_train_path,batch_size=64)\n",
    "        pass\n",
    "    elif model=='3' or model=='TF_LENET':\n",
    "        model_train_path=os.getcwd()+'\\\\models\\\\model3'\n",
    "        TF_LENET_test(X_test,Y_test,model_train_path,batch_size=64)\n",
    "        pass"
   ]
  },
  {
   "cell_type": "code",
   "execution_count": 24,
   "metadata": {},
   "outputs": [
    {
     "name": "stdout",
     "output_type": "stream",
     "text": [
      "INFO:tensorflow:Restoring parameters from D:\\UNIVERSIDAD\\EXTERNAS\\RETO_KIWI_DEEP_LEARNING\\German Traffic Signs Detector\\models\\model3\\german_lenet.ckpt\n",
      "Accuracy:  0.8559670811327397\n"
     ]
    }
   ],
   "source": [
    "test(model, directory)"
   ]
  },
  {
   "cell_type": "markdown",
   "metadata": {},
   "source": [
    "### Finally, we are going to to the infer, so I pick some images of the test folder randomly and put them in the \"user\" folder\n",
    "### So again, we need to change the directory and define the infering function\n",
    "to run this from the Command Window\n",
    "\n",
    "python app.py infering -m 3 -d \"D:\\UNIVERSIDAD\\EXTERNAS\\RETO_KIWI_DEEP_LEARNING\\German Traffic Signs Detector Try\\images\\user\""
   ]
  },
  {
   "cell_type": "code",
   "execution_count": 10,
   "metadata": {
    "collapsed": true
   },
   "outputs": [],
   "source": [
    "directory='D:\\\\UNIVERSIDAD\\\\EXTERNAS\\\\RETO_KIWI_DEEP_LEARNING\\\\German Traffic Signs Detector\\\\images\\\\user'"
   ]
  },
  {
   "cell_type": "code",
   "execution_count": 11,
   "metadata": {
    "collapsed": true
   },
   "outputs": [],
   "source": [
    "def infer(model, directory):\n",
    "    \"\"\"\n",
    "    Infer from model # from images in directory  \n",
    "    \n",
    "    \\b\n",
    "    INPUT:\n",
    "    model: Number of model or name\n",
    "      (0 or SK_LR refers to SK logistic regression)\n",
    "      (1 or TF_LR refers to  TF Logistic regression)\n",
    "      (2 or TF_LENET refers to  TF LENET)\n",
    "        \n",
    "    directory: Directory where the infer or user images are placed in format .ppm\n",
    "    \"\"\"\n",
    "    os.chdir(directory)\n",
    "    X_infer, Y_infer=data_adequacy(directory,train=False)\n",
    "    os.chdir('..') \n",
    "    os.chdir('..')\n",
    "    if model=='1' or model=='SK_LR':\n",
    "        model_train_path=os.getcwd()+'\\\\models\\\\model1'\n",
    "        X_infer_pre, Y_infer_pre=preprocessingdata(X_infer, Y_infer, directory)\n",
    "        predict=SK_LR_infer(X_infer_pre,model_train_path)\n",
    "        infer_plot(X_infer,predict,Y_infer_pre)\n",
    "        pass\n",
    "    elif model=='2' or model=='TF_LR':\n",
    "        model_train_path=os.getcwd()+'\\\\models\\\\model2'\n",
    "        predict=TF_LR_infer(X_infer,model_train_path)\n",
    "        Y_infer_pre=inverse_ohe(directory,Y_infer)\n",
    "        infer_plot(X_infer,predict,Y_infer_pre)\n",
    "        pass\n",
    "    elif model=='3' or model=='TF_LENET':\n",
    "        model_train_path=os.getcwd()+'\\\\models\\\\model3'\n",
    "        predict=TF_LENET_infer(X_infer,model_train_path)\n",
    "        Y_infer_pre=inverse_ohe(directory,Y_infer)\n",
    "        infer_plot(X_infer,predict,Y_infer_pre)\n",
    "        pass"
   ]
  },
  {
   "cell_type": "code",
   "execution_count": 12,
   "metadata": {},
   "outputs": [
    {
     "name": "stdout",
     "output_type": "stream",
     "text": [
      "INFO:tensorflow:Restoring parameters from D:\\UNIVERSIDAD\\EXTERNAS\\RETO_KIWI_DEEP_LEARNING\\German Traffic Signs Detector\\models\\model3\\german_lenet.ckpt\n"
     ]
    },
    {
     "data": {
      "image/png": "[encoded data removed]",
      "text/plain": [
       "<matplotlib.figure.Figure at 0x276bc34f748>"
      ]
     },
     "metadata": {},
     "output_type": "display_data"
    },
    {
     "data": {
      "image/png": "[encoded data removed]",
      "text/plain": [
       "<matplotlib.figure.Figure at 0x276bc4a40b8>"
      ]
     },
     "metadata": {},
     "output_type": "display_data"
    },
    {
     "data": {
      "image/png": "[encoded data removed]",
      "text/plain": [
       "<matplotlib.figure.Figure at 0x276bc3cd240>"
      ]
     },
     "metadata": {},
     "output_type": "display_data"
    },
    {
     "data": {
      "image/png": "[encoded data removed]",
      "text/plain": [
       "<matplotlib.figure.Figure at 0x276bd20b470>"
      ]
     },
     "metadata": {},
     "output_type": "display_data"
    },
    {
     "data": {
      "image/png": "[encoded data removed]",
      "text/plain": [
       "<matplotlib.figure.Figure at 0x276bc27efd0>"
      ]
     },
     "metadata": {},
     "output_type": "display_data"
    },
    {
     "data": {
      "image/png": "[encoded data removed]",
      "text/plain": [
       "<matplotlib.figure.Figure at 0x276bd0142b0>"
      ]
     },
     "metadata": {},
     "output_type": "display_data"
    }
   ],
   "source": [
    "infer(model, directory)"
   ]
  },
  {
   "cell_type": "markdown",
   "metadata": {},
   "source": [
    "### As we can see the model works well but it is not perfect, and some images are hard to classify"
   ]
  },
  {
   "cell_type": "code",
   "execution_count": null,
   "metadata": {
    "collapsed": true
   },
   "outputs": [],
   "source": []
  }
 ],
 "metadata": {
  "kernelspec": {
   "display_name": "Python 3",
   "language": "python",
   "name": "python3"
  },
  "language_info": {
   "codemirror_mode": {
    "name": "ipython",
    "version": 3
   },
   "file_extension": ".py",
   "mimetype": "text/x-python",
   "name": "python",
   "nbconvert_exporter": "python",
   "pygments_lexer": "ipython3",
   "version": "3.6.1"
  }
 },
 "nbformat": 4,
 "nbformat_minor": 2
}
